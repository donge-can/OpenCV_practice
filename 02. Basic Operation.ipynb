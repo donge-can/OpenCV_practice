{
 "cells": [
  {
   "cell_type": "markdown",
   "metadata": {},
   "source": [
    "### 좌표로 ROI 지정하기\n",
    "- roi : 관심영역 (Region Of Interest, ROI)"
   ]
  },
  {
   "cell_type": "markdown",
   "metadata": {},
   "source": [
    "### Basic Operation"
   ]
  },
  {
   "cell_type": "code",
   "execution_count": 1,
   "metadata": {},
   "outputs": [],
   "source": [
    "import cv2\n",
    "import numpy as np\n",
    "import matplotlib.pyplot as plt"
   ]
  },
  {
   "cell_type": "code",
   "execution_count": 2,
   "metadata": {},
   "outputs": [],
   "source": [
    "img = cv2.imread('img/sunset.jpg')"
   ]
  },
  {
   "cell_type": "code",
   "execution_count": 4,
   "metadata": {},
   "outputs": [
    {
     "name": "stdout",
     "output_type": "stream",
     "text": [
      "[166 155 163]\n"
     ]
    }
   ],
   "source": [
    "px = img[100, 200]\n",
    "print(px)\n",
    "\n",
    "# 100행 200열의 색값이 166(B) 155(G) 100(R) "
   ]
  },
  {
   "cell_type": "code",
   "execution_count": 8,
   "metadata": {},
   "outputs": [
    {
     "name": "stdout",
     "output_type": "stream",
     "text": [
      "166\n"
     ]
    }
   ],
   "source": [
    "# blue 값만을 확인하고 싶을 땐?\n",
    "\n",
    "b = img[100, 200, 0]\n",
    "print(b)"
   ]
  },
  {
   "cell_type": "code",
   "execution_count": null,
   "metadata": {},
   "outputs": [],
   "source": [
    "img[100, 200, 1]\n",
    "\n",
    "# 1 == Green , 2 == Red"
   ]
  },
  {
   "cell_type": "code",
   "execution_count": null,
   "metadata": {},
   "outputs": [],
   "source": [
    "#특정 pixel의 값 변경하기\n",
    "\n",
    "img[100, 200] = [255, 255, 255]\n",
    "\n",
    "# 100행 200열의 색값을 흰색으로 변경"
   ]
  },
  {
   "cell_type": "code",
   "execution_count": 10,
   "metadata": {},
   "outputs": [
    {
     "data": {
      "text/plain": [
       "163"
      ]
     },
     "execution_count": 10,
     "metadata": {},
     "output_type": "execute_result"
    }
   ],
   "source": [
    "img.item(100,200,2) # Red값"
   ]
  },
  {
   "cell_type": "code",
   "execution_count": 11,
   "metadata": {},
   "outputs": [
    {
     "data": {
      "text/plain": [
       "100"
      ]
     },
     "execution_count": 11,
     "metadata": {},
     "output_type": "execute_result"
    }
   ],
   "source": [
    "img.itemset((100,200,2), 100) # Red값을 100으로 변경\n",
    "img.item(100, 200, 2)"
   ]
  },
  {
   "cell_type": "markdown",
   "metadata": {},
   "source": [
    "<br>\n",
    "\n",
    "### 이미지의 기본 속성"
   ]
  },
  {
   "cell_type": "code",
   "execution_count": 13,
   "metadata": {},
   "outputs": [
    {
     "data": {
      "text/plain": [
       "(338, 600, 3)"
      ]
     },
     "execution_count": 13,
     "metadata": {},
     "output_type": "execute_result"
    }
   ],
   "source": [
    "img.shape\n",
    "\n",
    "# (행, 열, channel)\n",
    "# 이미지가 grayscale의 경우에는 행과 열만 return 됨. 즉 alpha channel의 값은 x"
   ]
  },
  {
   "cell_type": "code",
   "execution_count": 15,
   "metadata": {},
   "outputs": [
    {
     "data": {
      "text/plain": [
       "608400"
      ]
     },
     "execution_count": 15,
     "metadata": {},
     "output_type": "execute_result"
    }
   ],
   "source": [
    "#전체 pixcel 수 확인 \n",
    "img.size"
   ]
  },
  {
   "cell_type": "code",
   "execution_count": 16,
   "metadata": {},
   "outputs": [
    {
     "data": {
      "text/plain": [
       "dtype('uint8')"
      ]
     },
     "execution_count": 16,
     "metadata": {},
     "output_type": "execute_result"
    }
   ],
   "source": [
    "img.dtype"
   ]
  },
  {
   "cell_type": "markdown",
   "metadata": {},
   "source": [
    "<br>\n",
    "\n",
    "### 이미지 ROI (Region of Image)"
   ]
  },
  {
   "cell_type": "markdown",
   "metadata": {},
   "source": [
    "- numpy의 indexing 방법 사용\n",
    "- 특정 영역에 어떤 물체가 있다는 것을 알고 있을 경우, 그 영역을 설정해서 copy를 하면 됨"
   ]
  },
  {
   "cell_type": "markdown",
   "metadata": {},
   "source": [
    "<br>\n",
    "\n",
    "### 관심영역 copy 해서 이미지 넣기"
   ]
  },
  {
   "cell_type": "code",
   "execution_count": 2,
   "metadata": {},
   "outputs": [],
   "source": [
    "# sunset(관심영역) 복제\n",
    "\n",
    "img = cv2.imread('img/sunset.jpg')\n",
    "x = 320 ; y =150 ; w = 50 ; h =50\n",
    "sunset = img[y:y+h, x:x+w] #img[행의 시작점: 행의 끝점, 열의 시작점: 열의 끝점]\n",
    "# y행에서 y+h 행 까지, x열에서 x+w열까지 슬라이싱\n",
    "\n",
    "img[y:y+h , x+w:x+w+w] = sunset\n",
    "\n",
    "cv2.imshow('img', img)\n",
    "cv2.waitKey()\n",
    "cv2.destroyAllWindows()"
   ]
  },
  {
   "cell_type": "markdown",
   "metadata": {},
   "source": [
    "<br>\n",
    "\n",
    "### 관심영역 사각형그리기 01"
   ]
  },
  {
   "cell_type": "code",
   "execution_count": 7,
   "metadata": {},
   "outputs": [
    {
     "name": "stdout",
     "output_type": "stream",
     "text": [
      "(50, 50, 3)\n"
     ]
    }
   ],
   "source": [
    "img = cv2.imread('img/sunset.jpg')\n",
    "\n",
    "x = 320 ; y =150 ; w = 50 ; h =50\n",
    "sunset = img[y:y+h, x:x+w]\n",
    "\n",
    "print(sunset.shape)\n",
    "cv2.rectangle(sunset, (0,0), (h-1, w-1), (0, 255,0))\n",
    "# rectangle(image, start, end, color)\n",
    "cv2.imshow('img', img)\n",
    "\n",
    "cv2.waitKey(0)\n",
    "cv2.destroyAllWindows()"
   ]
  },
  {
   "cell_type": "markdown",
   "metadata": {},
   "source": [
    "- sunset 부분에 사각형 그리기 위해서 rectangle(sunset, (0,0), (susnet height -1 , susent width -1), 색) 사용했다.\n",
    "- sunset 을 기준으로 사각형 그리기"
   ]
  },
  {
   "cell_type": "markdown",
   "metadata": {},
   "source": [
    "<br>\n",
    "\n",
    "\n",
    "### 관심영역 사각형그리기 02"
   ]
  },
  {
   "cell_type": "code",
   "execution_count": 5,
   "metadata": {},
   "outputs": [],
   "source": [
    "img = cv2.imread('img/sunset.jpg')\n",
    "\n",
    "x = 320 ; y =150 ; w = 50 ; h =50\n",
    "sunset = img[y:y+h, x:x+w]\n",
    "# cv2.imshow('img2', img2)\n",
    "\n",
    "img[y:y+h, x+w:x+(2*w)] = sunset\n",
    "# img[y:y+h, x+w: x+w+w] = sunset # 위의 코드와 동일\n",
    "\n",
    "\n",
    "cv2.rectangle(img, (x,y), (x+w+w, y+h), (0, 0, 255))\n",
    "# rectangle(img, 시작좌표, 종료좌표, 색(BGR) , )\n",
    "# (255, 0, 0) Blue , (0, 255, 0) Green, (0, 0, 255) Red\n",
    "\n",
    "cv2.imshow('img', img)\n",
    "\n",
    "cv2.waitKey(0) # ESC\n",
    "cv2.destroyAllWindows()"
   ]
  },
  {
   "cell_type": "markdown",
   "metadata": {},
   "source": [
    "- img 를 기준으로 rectangle 을 그렸기 때문에, 좌표 시작점이 (0,0) 이 아니다.\n",
    "- 관심영역 사각형그리기 01 과 비교해서 볼 것"
   ]
  },
  {
   "cell_type": "markdown",
   "metadata": {},
   "source": [
    "### ROI 파일 영역 저장하기"
   ]
  },
  {
   "cell_type": "code",
   "execution_count": 2,
   "metadata": {},
   "outputs": [],
   "source": [
    "import cv2"
   ]
  },
  {
   "cell_type": "code",
   "execution_count": 3,
   "metadata": {},
   "outputs": [],
   "source": [
    "img = cv2.imread('img/sunset.jpg')\n",
    "\n",
    "x,y,w,h = cv2.selectROI('img', img, False)\n",
    "\n",
    "if w and h :\n",
    "    roi = img[y:y+h, x:x+w]\n",
    "    cv2.imshow('cropped', roi) # ROI 지정 영역을 새창으로 표시\n",
    "    cv2.moveWindow('cropped', 0, 0) # 새창을 화면 좌측 상단으로 이동\n",
    "    cv2.imwrite('cropped2.jpg', roi) # roi 영역만 파일로 저장\n",
    "\n",
    "cv2.imshow('img', img)\n",
    "cv2.waitKey(0)\n",
    "cv2.destroyAllWindows()"
   ]
  },
  {
   "cell_type": "markdown",
   "metadata": {},
   "source": [
    "<br>\n",
    "\n",
    "### 마우스로 관심영역 지정\n"
   ]
  },
  {
   "cell_type": "code",
   "execution_count": 2,
   "metadata": {},
   "outputs": [
    {
     "name": "stdout",
     "output_type": "stream",
     "text": [
      "x:323, y:151, w:55, h:56\n",
      "croped.\n"
     ]
    }
   ],
   "source": [
    "import cv2\n",
    "import numpy as np\n",
    "\n",
    "isDragging = False                      # 마우스 드래그 상태 저장 \n",
    "x0, y0, w, h = -1,-1,-1,-1              # 영역 선택 좌표 저장\n",
    "blue, red = (255,0,0),(0,0,255)         # 색상 값 \n",
    "\n",
    "def onMouse(event,x,y,flags,param):     # 마우스 이벤트 핸들 함수  ---①\n",
    "    global isDragging, x0, y0, img      # 전역변수 참조\n",
    "    if event == cv2.EVENT_LBUTTONDOWN:  # 왼쪽 마우스 버튼 다운, 드래그 시작 ---②\n",
    "        isDragging = True\n",
    "        x0 = x\n",
    "        y0 = y\n",
    "    elif event == cv2.EVENT_MOUSEMOVE:  # 마우스 움직임 ---③\n",
    "        if isDragging:                  # 드래그 진행 중\n",
    "            img_draw = img.copy()       # 사각형 그림 표현을 위한 이미지 복제\n",
    "            cv2.rectangle(img_draw, (x0, y0), (x, y), blue, 2) # 드래그 진행 영역 표시\n",
    "            cv2.imshow('img', img_draw) # 사각형 표시된 그림 화면 출력\n",
    "    elif event == cv2.EVENT_LBUTTONUP:  # 왼쪽 마우스 버튼 업 ---④\n",
    "        if isDragging:                  # 드래그 중지\n",
    "            isDragging = False          \n",
    "            w = x - x0                  # 드래그 영역 폭 계산\n",
    "            h = y - y0                  # 드래그 영역 높이 계산\n",
    "            print(\"x:%d, y:%d, w:%d, h:%d\" % (x0, y0, w, h))\n",
    "            if w > 0 and h > 0:         # 폭과 높이가 음수이면 드래그 방향이 옳음 ---⑤\n",
    "                img_draw = img.copy()   # 선택 영역에 사각형 그림을 표시할 이미지 복제\n",
    "                # 선택 영역에 빨간 사각형 표시\n",
    "                cv2.rectangle(img_draw, (x0, y0), (x, y), red, 2) \n",
    "                cv2.imshow('img', img_draw) # 빨간 사각형 그려진 이미지 화면 출력\n",
    "                roi = img[y0:y0+h, x0:x0+w] # 원본 이미지에서 선택 영영만 ROI로 지정 ---⑥\n",
    "                cv2.imshow('cropped', roi)  # ROI 지정 영역을 새창으로 표시\n",
    "                cv2.moveWindow('cropped', 0, 0) # 새창을 화면 좌측 상단에 이동\n",
    "                cv2.imwrite('./cropped.jpg', roi)   # ROI 영역만 파일로 저장 ---⑦\n",
    "                print(\"croped.\")\n",
    "            else:\n",
    "                cv2.imshow('img', img)  # 드래그 방향이 잘못된 경우 사각형 그림ㅇㅣ 없는 원본 이미지 출력\n",
    "                print(\"좌측 상단에서 우측 하단으로 영역을 드래그 하세요.\")\n",
    "\n",
    "img = cv2.imread('C:\\\\Users\\\\user\\\\multicampus\\\\second\\\\1. Open CV\\\\img\\\\sunset.jpg')\n",
    "cv2.imshow('img', img)\n",
    "cv2.setMouseCallback('img', onMouse) # 마우스 이벤트 등록 ---⑧\n",
    "cv2.waitKey()\n",
    "cv2.destroyAllWindows()"
   ]
  },
  {
   "cell_type": "code",
   "execution_count": null,
   "metadata": {},
   "outputs": [],
   "source": []
  }
 ],
 "metadata": {
  "kernelspec": {
   "display_name": "Python 3",
   "language": "python",
   "name": "python3"
  },
  "language_info": {
   "codemirror_mode": {
    "name": "ipython",
    "version": 3
   },
   "file_extension": ".py",
   "mimetype": "text/x-python",
   "name": "python",
   "nbconvert_exporter": "python",
   "pygments_lexer": "ipython3",
   "version": "3.7.3"
  }
 },
 "nbformat": 4,
 "nbformat_minor": 2
}
